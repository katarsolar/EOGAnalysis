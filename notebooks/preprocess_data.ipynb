{
 "cells": [
  {
   "cell_type": "code",
   "id": "initial_id",
   "metadata": {
    "collapsed": true,
    "ExecuteTime": {
     "end_time": "2024-10-16T17:23:17.591189Z",
     "start_time": "2024-10-16T17:23:17.568413Z"
    }
   },
   "source": "%matplotlib inline",
   "outputs": [],
   "execution_count": 1
  },
  {
   "metadata": {
    "ExecuteTime": {
     "end_time": "2024-10-16T17:43:17.457868Z",
     "start_time": "2024-10-16T17:43:17.452112Z"
    }
   },
   "cell_type": "code",
   "source": [
    "import numpy as np\n",
    "import scipy.io as sio\n",
    "import pandas as pd\n",
    "import matplotlib.pyplot as plt\n",
    "import seaborn as sns  \n",
    "import tables\n",
    "import h5py\n",
    "\n",
    "from configs.roots import PROJ_ROOT"
   ],
   "id": "bcefa7a9999694e9",
   "outputs": [],
   "execution_count": 21
  },
  {
   "metadata": {},
   "cell_type": "code",
   "outputs": [],
   "execution_count": null,
   "source": "",
   "id": "f5918ece53f3e2ab"
  },
  {
   "metadata": {
    "ExecuteTime": {
     "end_time": "2024-10-16T17:26:49.330550Z",
     "start_time": "2024-10-16T17:26:49.324766Z"
    }
   },
   "cell_type": "code",
   "source": [
    "%whos\n",
    "data_path = PROJ_ROOT + '/data/combined_dataset.h5'"
   ],
   "id": "8704ebdc365de250",
   "outputs": [
    {
     "name": "stdout",
     "output_type": "stream",
     "text": [
      "Variable                        Type        Data/Info\n",
      "-----------------------------------------------------\n",
      "PROJ_ROOT                       str         C:\\Users\\sinch\\work\\pyprojs\\EOGAnalysis\n",
      "data_path                       str         C:\\Users\\sinch\\work\\pypro<...>\\data\\combined_dataset.h5\n",
      "h5py                            module      <module 'h5py' from 'C:\\\\<...>ages\\\\h5py\\\\__init__.py'>\n",
      "np                              module      <module 'numpy' from 'C:\\<...>ges\\\\numpy\\\\__init__.py'>\n",
      "pd                              module      <module 'pandas' from 'C:<...>es\\\\pandas\\\\__init__.py'>\n",
      "plt                             module      <module 'matplotlib.pyplo<...>\\\\matplotlib\\\\pyplot.py'>\n",
      "pydev_jupyter_vars              module      <module 'pydev_jupyter_va<...>\\\\pydev_jupyter_vars.py'>\n",
      "remove_imported_pydev_package   function    <function remove_imported<...>ge at 0x000002B57E1DD580>\n",
      "sio                             module      <module 'scipy.io' from '<...>\\scipy\\\\io\\\\__init__.py'>\n",
      "sns                             module      <module 'seaborn' from 'C<...>s\\\\seaborn\\\\__init__.py'>\n",
      "sys                             module      <module 'sys' (built-in)>\n"
     ]
    }
   ],
   "execution_count": 9
  },
  {
   "metadata": {
    "ExecuteTime": {
     "end_time": "2024-10-16T17:43:35.558689Z",
     "start_time": "2024-10-16T17:43:35.526411Z"
    }
   },
   "cell_type": "code",
   "source": [
    "df = pd.read_hdf(data_path, key='windows') \n",
    "\n"
   ],
   "id": "e337171021e3c80a",
   "outputs": [
    {
     "ename": "TypeError",
     "evalue": "cannot create a storer if the object is not existing nor a value are passed",
     "output_type": "error",
     "traceback": [
      "\u001B[1;31m---------------------------------------------------------------------------\u001B[0m",
      "\u001B[1;31mTypeError\u001B[0m                                 Traceback (most recent call last)",
      "Cell \u001B[1;32mIn[24], line 1\u001B[0m\n\u001B[1;32m----> 1\u001B[0m df \u001B[38;5;241m=\u001B[39m \u001B[43mpd\u001B[49m\u001B[38;5;241;43m.\u001B[39;49m\u001B[43mread_hdf\u001B[49m\u001B[43m(\u001B[49m\u001B[43mdata_path\u001B[49m\u001B[43m,\u001B[49m\u001B[43m \u001B[49m\u001B[43mkey\u001B[49m\u001B[38;5;241;43m=\u001B[39;49m\u001B[38;5;124;43m'\u001B[39;49m\u001B[38;5;124;43mwindows\u001B[39;49m\u001B[38;5;124;43m'\u001B[39;49m\u001B[43m)\u001B[49m \n",
      "File \u001B[1;32m~\\work\\pyprojs\\EOGAnalysis\\.venv\\Lib\\site-packages\\pandas\\io\\pytables.py:452\u001B[0m, in \u001B[0;36mread_hdf\u001B[1;34m(path_or_buf, key, mode, errors, where, start, stop, columns, iterator, chunksize, **kwargs)\u001B[0m\n\u001B[0;32m    447\u001B[0m                 \u001B[38;5;28;01mraise\u001B[39;00m \u001B[38;5;167;01mValueError\u001B[39;00m(\n\u001B[0;32m    448\u001B[0m                     \u001B[38;5;124m\"\u001B[39m\u001B[38;5;124mkey must be provided when HDF5 \u001B[39m\u001B[38;5;124m\"\u001B[39m\n\u001B[0;32m    449\u001B[0m                     \u001B[38;5;124m\"\u001B[39m\u001B[38;5;124mfile contains multiple datasets.\u001B[39m\u001B[38;5;124m\"\u001B[39m\n\u001B[0;32m    450\u001B[0m                 )\n\u001B[0;32m    451\u001B[0m         key \u001B[38;5;241m=\u001B[39m candidate_only_group\u001B[38;5;241m.\u001B[39m_v_pathname\n\u001B[1;32m--> 452\u001B[0m     \u001B[38;5;28;01mreturn\u001B[39;00m \u001B[43mstore\u001B[49m\u001B[38;5;241;43m.\u001B[39;49m\u001B[43mselect\u001B[49m\u001B[43m(\u001B[49m\n\u001B[0;32m    453\u001B[0m \u001B[43m        \u001B[49m\u001B[43mkey\u001B[49m\u001B[43m,\u001B[49m\n\u001B[0;32m    454\u001B[0m \u001B[43m        \u001B[49m\u001B[43mwhere\u001B[49m\u001B[38;5;241;43m=\u001B[39;49m\u001B[43mwhere\u001B[49m\u001B[43m,\u001B[49m\n\u001B[0;32m    455\u001B[0m \u001B[43m        \u001B[49m\u001B[43mstart\u001B[49m\u001B[38;5;241;43m=\u001B[39;49m\u001B[43mstart\u001B[49m\u001B[43m,\u001B[49m\n\u001B[0;32m    456\u001B[0m \u001B[43m        \u001B[49m\u001B[43mstop\u001B[49m\u001B[38;5;241;43m=\u001B[39;49m\u001B[43mstop\u001B[49m\u001B[43m,\u001B[49m\n\u001B[0;32m    457\u001B[0m \u001B[43m        \u001B[49m\u001B[43mcolumns\u001B[49m\u001B[38;5;241;43m=\u001B[39;49m\u001B[43mcolumns\u001B[49m\u001B[43m,\u001B[49m\n\u001B[0;32m    458\u001B[0m \u001B[43m        \u001B[49m\u001B[43miterator\u001B[49m\u001B[38;5;241;43m=\u001B[39;49m\u001B[43miterator\u001B[49m\u001B[43m,\u001B[49m\n\u001B[0;32m    459\u001B[0m \u001B[43m        \u001B[49m\u001B[43mchunksize\u001B[49m\u001B[38;5;241;43m=\u001B[39;49m\u001B[43mchunksize\u001B[49m\u001B[43m,\u001B[49m\n\u001B[0;32m    460\u001B[0m \u001B[43m        \u001B[49m\u001B[43mauto_close\u001B[49m\u001B[38;5;241;43m=\u001B[39;49m\u001B[43mauto_close\u001B[49m\u001B[43m,\u001B[49m\n\u001B[0;32m    461\u001B[0m \u001B[43m    \u001B[49m\u001B[43m)\u001B[49m\n\u001B[0;32m    462\u001B[0m \u001B[38;5;28;01mexcept\u001B[39;00m (\u001B[38;5;167;01mValueError\u001B[39;00m, \u001B[38;5;167;01mTypeError\u001B[39;00m, \u001B[38;5;167;01mLookupError\u001B[39;00m):\n\u001B[0;32m    463\u001B[0m     \u001B[38;5;28;01mif\u001B[39;00m \u001B[38;5;129;01mnot\u001B[39;00m \u001B[38;5;28misinstance\u001B[39m(path_or_buf, HDFStore):\n\u001B[0;32m    464\u001B[0m         \u001B[38;5;66;03m# if there is an error, close the store if we opened it.\u001B[39;00m\n",
      "File \u001B[1;32m~\\work\\pyprojs\\EOGAnalysis\\.venv\\Lib\\site-packages\\pandas\\io\\pytables.py:885\u001B[0m, in \u001B[0;36mHDFStore.select\u001B[1;34m(self, key, where, start, stop, columns, iterator, chunksize, auto_close)\u001B[0m\n\u001B[0;32m    883\u001B[0m \u001B[38;5;66;03m# create the storer and axes\u001B[39;00m\n\u001B[0;32m    884\u001B[0m where \u001B[38;5;241m=\u001B[39m _ensure_term(where, scope_level\u001B[38;5;241m=\u001B[39m\u001B[38;5;241m1\u001B[39m)\n\u001B[1;32m--> 885\u001B[0m s \u001B[38;5;241m=\u001B[39m \u001B[38;5;28;43mself\u001B[39;49m\u001B[38;5;241;43m.\u001B[39;49m\u001B[43m_create_storer\u001B[49m\u001B[43m(\u001B[49m\u001B[43mgroup\u001B[49m\u001B[43m)\u001B[49m\n\u001B[0;32m    886\u001B[0m s\u001B[38;5;241m.\u001B[39minfer_axes()\n\u001B[0;32m    888\u001B[0m \u001B[38;5;66;03m# function to call on iteration\u001B[39;00m\n",
      "File \u001B[1;32m~\\work\\pyprojs\\EOGAnalysis\\.venv\\Lib\\site-packages\\pandas\\io\\pytables.py:1752\u001B[0m, in \u001B[0;36mHDFStore._create_storer\u001B[1;34m(self, group, format, value, encoding, errors)\u001B[0m\n\u001B[0;32m   1750\u001B[0m         tt \u001B[38;5;241m=\u001B[39m \u001B[38;5;124m\"\u001B[39m\u001B[38;5;124mgeneric_table\u001B[39m\u001B[38;5;124m\"\u001B[39m\n\u001B[0;32m   1751\u001B[0m     \u001B[38;5;28;01melse\u001B[39;00m:\n\u001B[1;32m-> 1752\u001B[0m         \u001B[38;5;28;01mraise\u001B[39;00m \u001B[38;5;167;01mTypeError\u001B[39;00m(\n\u001B[0;32m   1753\u001B[0m             \u001B[38;5;124m\"\u001B[39m\u001B[38;5;124mcannot create a storer if the object is not existing \u001B[39m\u001B[38;5;124m\"\u001B[39m\n\u001B[0;32m   1754\u001B[0m             \u001B[38;5;124m\"\u001B[39m\u001B[38;5;124mnor a value are passed\u001B[39m\u001B[38;5;124m\"\u001B[39m\n\u001B[0;32m   1755\u001B[0m         )\n\u001B[0;32m   1756\u001B[0m \u001B[38;5;28;01melse\u001B[39;00m:\n\u001B[0;32m   1757\u001B[0m     \u001B[38;5;28;01mif\u001B[39;00m \u001B[38;5;28misinstance\u001B[39m(value, Series):\n",
      "\u001B[1;31mTypeError\u001B[0m: cannot create a storer if the object is not existing nor a value are passed"
     ]
    }
   ],
   "execution_count": 24
  },
  {
   "metadata": {
    "ExecuteTime": {
     "end_time": "2024-10-16T17:46:22.320395Z",
     "start_time": "2024-10-16T17:46:22.170637Z"
    }
   },
   "cell_type": "code",
   "source": [
    "with h5py.File(data_path, 'r') as h5_file:\n",
    "    # Просмотр ключей верхнего уровня\n",
    "    print(\"Ключи верхнего уровня:\", list(h5_file.keys()))\n",
    "    \n",
    "    # Допустим, у вас есть группа или датасет с именем 'dataset_name'\n",
    "    signals = h5_file['windows']\n",
    "    labels = h5_file['labels']\n",
    "    \n",
    "    # Чтение данных как NumPy массив\n",
    "    signals = signals[()]\n",
    "    labels = labels[()]"
   ],
   "id": "89342df1aa11e4df",
   "outputs": [
    {
     "name": "stdout",
     "output_type": "stream",
     "text": [
      "Ключи верхнего уровня: ['labels', 'windows']\n"
     ]
    }
   ],
   "execution_count": 30
  },
  {
   "metadata": {},
   "cell_type": "code",
   "outputs": [],
   "execution_count": null,
   "source": "",
   "id": "5db58033016d4424"
  },
  {
   "metadata": {
    "ExecuteTime": {
     "end_time": "2024-10-16T17:46:45.347223Z",
     "start_time": "2024-10-16T17:46:45.341533Z"
    }
   },
   "cell_type": "code",
   "source": [
    "print(signals.shape)\n",
    "labels.shape"
   ],
   "id": "ef5d4c9728c8823a",
   "outputs": [
    {
     "name": "stdout",
     "output_type": "stream",
     "text": [
      "(4, 256, 4000)\n"
     ]
    },
    {
     "data": {
      "text/plain": [
       "(2, 4000)"
      ]
     },
     "execution_count": 31,
     "metadata": {},
     "output_type": "execute_result"
    }
   ],
   "execution_count": 31
  },
  {
   "metadata": {
    "ExecuteTime": {
     "end_time": "2024-10-16T08:00:38.378148Z",
     "start_time": "2024-10-16T08:00:38.375811Z"
    }
   },
   "cell_type": "code",
   "source": [
    "(224,224,3)\n",
    "(150000,1)"
   ],
   "id": "f52342a2e51a6f23",
   "outputs": [],
   "execution_count": null
  }
 ],
 "metadata": {
  "kernelspec": {
   "display_name": "Python 3",
   "language": "python",
   "name": "python3"
  },
  "language_info": {
   "codemirror_mode": {
    "name": "ipython",
    "version": 2
   },
   "file_extension": ".py",
   "mimetype": "text/x-python",
   "name": "python",
   "nbconvert_exporter": "python",
   "pygments_lexer": "ipython2",
   "version": "2.7.6"
  }
 },
 "nbformat": 4,
 "nbformat_minor": 5
}
