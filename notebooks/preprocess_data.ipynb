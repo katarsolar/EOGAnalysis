{
 "cells": [
  {
   "cell_type": "code",
   "id": "initial_id",
   "metadata": {
    "collapsed": true,
    "ExecuteTime": {
     "end_time": "2024-10-30T16:51:22.481628Z",
     "start_time": "2024-10-30T16:51:22.420983Z"
    }
   },
   "source": "%matplotlib inline",
   "outputs": [],
   "execution_count": 1
  },
  {
   "metadata": {
    "ExecuteTime": {
     "end_time": "2024-11-13T04:00:03.038966Z",
     "start_time": "2024-11-13T04:00:02.914799Z"
    }
   },
   "cell_type": "code",
   "source": [
    "import numpy as np\n",
    "import scipy.io as sio\n",
    "import pandas as pd\n",
    "import matplotlib.pyplot as plt\n",
    "import seaborn as sns  \n",
    "import h5py\n",
    "\n",
    "from configs.roots import PROJ_ROOT"
   ],
   "id": "bcefa7a9999694e9",
   "outputs": [],
   "execution_count": 2
  },
  {
   "metadata": {
    "ExecuteTime": {
     "end_time": "2024-11-13T04:00:06.784104Z",
     "start_time": "2024-11-13T04:00:06.780224Z"
    }
   },
   "cell_type": "code",
   "source": [
    "%whos\n",
    "data_path = PROJ_ROOT + '/data/combined_dataset.h5'"
   ],
   "id": "8704ebdc365de250",
   "outputs": [
    {
     "name": "stdout",
     "output_type": "stream",
     "text": [
      "Variable                        Type        Data/Info\n",
      "-----------------------------------------------------\n",
      "PROJ_ROOT                       str         C:\\work\\AinSoph\\EOGAnalysis\n",
      "h5py                            module      <module 'h5py' from 'C:\\\\<...>ages\\\\h5py\\\\__init__.py'>\n",
      "np                              module      <module 'numpy' from 'C:\\<...>ges\\\\numpy\\\\__init__.py'>\n",
      "pd                              module      <module 'pandas' from 'C:<...>es\\\\pandas\\\\__init__.py'>\n",
      "plt                             module      <module 'matplotlib.pyplo<...>\\\\matplotlib\\\\pyplot.py'>\n",
      "pydev_jupyter_vars              module      <module 'pydev_jupyter_va<...>\\\\pydev_jupyter_vars.py'>\n",
      "remove_imported_pydev_package   function    <function remove_imported<...>ge at 0x000001867F8562A0>\n",
      "sio                             module      <module 'scipy.io' from '<...>\\scipy\\\\io\\\\__init__.py'>\n",
      "sns                             module      <module 'seaborn' from 'C<...>s\\\\seaborn\\\\__init__.py'>\n",
      "sys                             module      <module 'sys' (built-in)>\n"
     ]
    }
   ],
   "execution_count": 3
  },
  {
   "metadata": {
    "ExecuteTime": {
     "end_time": "2024-10-30T16:51:31.677446Z",
     "start_time": "2024-10-30T16:51:30.116888Z"
    }
   },
   "cell_type": "code",
   "source": [
    "df = pd.read_hdf(data_path, key='windows') \n",
    "\n"
   ],
   "id": "e337171021e3c80a",
   "outputs": [
    {
     "ename": "ImportError",
     "evalue": "Missing optional dependency 'pytables'.  Use pip or conda to install pytables.",
     "output_type": "error",
     "traceback": [
      "\u001B[1;31m---------------------------------------------------------------------------\u001B[0m",
      "\u001B[1;31mModuleNotFoundError\u001B[0m                       Traceback (most recent call last)",
      "File \u001B[1;32mC:\\work\\AinSoph\\EOGAnalysis\\.venv\\Lib\\site-packages\\pandas\\compat\\_optional.py:135\u001B[0m, in \u001B[0;36mimport_optional_dependency\u001B[1;34m(name, extra, errors, min_version)\u001B[0m\n\u001B[0;32m    134\u001B[0m \u001B[38;5;28;01mtry\u001B[39;00m:\n\u001B[1;32m--> 135\u001B[0m     module \u001B[38;5;241m=\u001B[39m \u001B[43mimportlib\u001B[49m\u001B[38;5;241;43m.\u001B[39;49m\u001B[43mimport_module\u001B[49m\u001B[43m(\u001B[49m\u001B[43mname\u001B[49m\u001B[43m)\u001B[49m\n\u001B[0;32m    136\u001B[0m \u001B[38;5;28;01mexcept\u001B[39;00m \u001B[38;5;167;01mImportError\u001B[39;00m:\n",
      "File \u001B[1;32m~\\AppData\\Local\\Programs\\Python\\Python312\\Lib\\importlib\\__init__.py:90\u001B[0m, in \u001B[0;36mimport_module\u001B[1;34m(name, package)\u001B[0m\n\u001B[0;32m     89\u001B[0m         level \u001B[38;5;241m+\u001B[39m\u001B[38;5;241m=\u001B[39m \u001B[38;5;241m1\u001B[39m\n\u001B[1;32m---> 90\u001B[0m \u001B[38;5;28;01mreturn\u001B[39;00m \u001B[43m_bootstrap\u001B[49m\u001B[38;5;241;43m.\u001B[39;49m\u001B[43m_gcd_import\u001B[49m\u001B[43m(\u001B[49m\u001B[43mname\u001B[49m\u001B[43m[\u001B[49m\u001B[43mlevel\u001B[49m\u001B[43m:\u001B[49m\u001B[43m]\u001B[49m\u001B[43m,\u001B[49m\u001B[43m \u001B[49m\u001B[43mpackage\u001B[49m\u001B[43m,\u001B[49m\u001B[43m \u001B[49m\u001B[43mlevel\u001B[49m\u001B[43m)\u001B[49m\n",
      "File \u001B[1;32m<frozen importlib._bootstrap>:1387\u001B[0m, in \u001B[0;36m_gcd_import\u001B[1;34m(name, package, level)\u001B[0m\n",
      "File \u001B[1;32m<frozen importlib._bootstrap>:1360\u001B[0m, in \u001B[0;36m_find_and_load\u001B[1;34m(name, import_)\u001B[0m\n",
      "File \u001B[1;32m<frozen importlib._bootstrap>:1324\u001B[0m, in \u001B[0;36m_find_and_load_unlocked\u001B[1;34m(name, import_)\u001B[0m\n",
      "\u001B[1;31mModuleNotFoundError\u001B[0m: No module named 'tables'",
      "\nDuring handling of the above exception, another exception occurred:\n",
      "\u001B[1;31mImportError\u001B[0m                               Traceback (most recent call last)",
      "Cell \u001B[1;32mIn[4], line 1\u001B[0m\n\u001B[1;32m----> 1\u001B[0m df \u001B[38;5;241m=\u001B[39m \u001B[43mpd\u001B[49m\u001B[38;5;241;43m.\u001B[39;49m\u001B[43mread_hdf\u001B[49m\u001B[43m(\u001B[49m\u001B[43mdata_path\u001B[49m\u001B[43m,\u001B[49m\u001B[43m \u001B[49m\u001B[43mkey\u001B[49m\u001B[38;5;241;43m=\u001B[39;49m\u001B[38;5;124;43m'\u001B[39;49m\u001B[38;5;124;43mwindows\u001B[39;49m\u001B[38;5;124;43m'\u001B[39;49m\u001B[43m)\u001B[49m \n",
      "File \u001B[1;32mC:\\work\\AinSoph\\EOGAnalysis\\.venv\\Lib\\site-packages\\pandas\\io\\pytables.py:426\u001B[0m, in \u001B[0;36mread_hdf\u001B[1;34m(path_or_buf, key, mode, errors, where, start, stop, columns, iterator, chunksize, **kwargs)\u001B[0m\n\u001B[0;32m    423\u001B[0m \u001B[38;5;28;01mif\u001B[39;00m \u001B[38;5;129;01mnot\u001B[39;00m exists:\n\u001B[0;32m    424\u001B[0m     \u001B[38;5;28;01mraise\u001B[39;00m \u001B[38;5;167;01mFileNotFoundError\u001B[39;00m(\u001B[38;5;124mf\u001B[39m\u001B[38;5;124m\"\u001B[39m\u001B[38;5;124mFile \u001B[39m\u001B[38;5;132;01m{\u001B[39;00mpath_or_buf\u001B[38;5;132;01m}\u001B[39;00m\u001B[38;5;124m does not exist\u001B[39m\u001B[38;5;124m\"\u001B[39m)\n\u001B[1;32m--> 426\u001B[0m store \u001B[38;5;241m=\u001B[39m \u001B[43mHDFStore\u001B[49m\u001B[43m(\u001B[49m\u001B[43mpath_or_buf\u001B[49m\u001B[43m,\u001B[49m\u001B[43m \u001B[49m\u001B[43mmode\u001B[49m\u001B[38;5;241;43m=\u001B[39;49m\u001B[43mmode\u001B[49m\u001B[43m,\u001B[49m\u001B[43m \u001B[49m\u001B[43merrors\u001B[49m\u001B[38;5;241;43m=\u001B[39;49m\u001B[43merrors\u001B[49m\u001B[43m,\u001B[49m\u001B[43m \u001B[49m\u001B[38;5;241;43m*\u001B[39;49m\u001B[38;5;241;43m*\u001B[39;49m\u001B[43mkwargs\u001B[49m\u001B[43m)\u001B[49m\n\u001B[0;32m    427\u001B[0m \u001B[38;5;66;03m# can't auto open/close if we are using an iterator\u001B[39;00m\n\u001B[0;32m    428\u001B[0m \u001B[38;5;66;03m# so delegate to the iterator\u001B[39;00m\n\u001B[0;32m    429\u001B[0m auto_close \u001B[38;5;241m=\u001B[39m \u001B[38;5;28;01mTrue\u001B[39;00m\n",
      "File \u001B[1;32mC:\\work\\AinSoph\\EOGAnalysis\\.venv\\Lib\\site-packages\\pandas\\io\\pytables.py:566\u001B[0m, in \u001B[0;36mHDFStore.__init__\u001B[1;34m(self, path, mode, complevel, complib, fletcher32, **kwargs)\u001B[0m\n\u001B[0;32m    563\u001B[0m \u001B[38;5;28;01mif\u001B[39;00m \u001B[38;5;124m\"\u001B[39m\u001B[38;5;124mformat\u001B[39m\u001B[38;5;124m\"\u001B[39m \u001B[38;5;129;01min\u001B[39;00m kwargs:\n\u001B[0;32m    564\u001B[0m     \u001B[38;5;28;01mraise\u001B[39;00m \u001B[38;5;167;01mValueError\u001B[39;00m(\u001B[38;5;124m\"\u001B[39m\u001B[38;5;124mformat is not a defined argument for HDFStore\u001B[39m\u001B[38;5;124m\"\u001B[39m)\n\u001B[1;32m--> 566\u001B[0m tables \u001B[38;5;241m=\u001B[39m \u001B[43mimport_optional_dependency\u001B[49m\u001B[43m(\u001B[49m\u001B[38;5;124;43m\"\u001B[39;49m\u001B[38;5;124;43mtables\u001B[39;49m\u001B[38;5;124;43m\"\u001B[39;49m\u001B[43m)\u001B[49m\n\u001B[0;32m    568\u001B[0m \u001B[38;5;28;01mif\u001B[39;00m complib \u001B[38;5;129;01mis\u001B[39;00m \u001B[38;5;129;01mnot\u001B[39;00m \u001B[38;5;28;01mNone\u001B[39;00m \u001B[38;5;129;01mand\u001B[39;00m complib \u001B[38;5;129;01mnot\u001B[39;00m \u001B[38;5;129;01min\u001B[39;00m tables\u001B[38;5;241m.\u001B[39mfilters\u001B[38;5;241m.\u001B[39mall_complibs:\n\u001B[0;32m    569\u001B[0m     \u001B[38;5;28;01mraise\u001B[39;00m \u001B[38;5;167;01mValueError\u001B[39;00m(\n\u001B[0;32m    570\u001B[0m         \u001B[38;5;124mf\u001B[39m\u001B[38;5;124m\"\u001B[39m\u001B[38;5;124mcomplib only supports \u001B[39m\u001B[38;5;132;01m{\u001B[39;00mtables\u001B[38;5;241m.\u001B[39mfilters\u001B[38;5;241m.\u001B[39mall_complibs\u001B[38;5;132;01m}\u001B[39;00m\u001B[38;5;124m compression.\u001B[39m\u001B[38;5;124m\"\u001B[39m\n\u001B[0;32m    571\u001B[0m     )\n",
      "File \u001B[1;32mC:\\work\\AinSoph\\EOGAnalysis\\.venv\\Lib\\site-packages\\pandas\\compat\\_optional.py:138\u001B[0m, in \u001B[0;36mimport_optional_dependency\u001B[1;34m(name, extra, errors, min_version)\u001B[0m\n\u001B[0;32m    136\u001B[0m \u001B[38;5;28;01mexcept\u001B[39;00m \u001B[38;5;167;01mImportError\u001B[39;00m:\n\u001B[0;32m    137\u001B[0m     \u001B[38;5;28;01mif\u001B[39;00m errors \u001B[38;5;241m==\u001B[39m \u001B[38;5;124m\"\u001B[39m\u001B[38;5;124mraise\u001B[39m\u001B[38;5;124m\"\u001B[39m:\n\u001B[1;32m--> 138\u001B[0m         \u001B[38;5;28;01mraise\u001B[39;00m \u001B[38;5;167;01mImportError\u001B[39;00m(msg)\n\u001B[0;32m    139\u001B[0m     \u001B[38;5;28;01mreturn\u001B[39;00m \u001B[38;5;28;01mNone\u001B[39;00m\n\u001B[0;32m    141\u001B[0m \u001B[38;5;66;03m# Handle submodules: if we have submodule, grab parent module from sys.modules\u001B[39;00m\n",
      "\u001B[1;31mImportError\u001B[0m: Missing optional dependency 'pytables'.  Use pip or conda to install pytables."
     ]
    }
   ],
   "execution_count": 4
  },
  {
   "metadata": {
    "ExecuteTime": {
     "end_time": "2024-11-13T04:00:10.899766Z",
     "start_time": "2024-11-13T04:00:10.785743Z"
    }
   },
   "cell_type": "code",
   "source": [
    "with h5py.File(data_path, 'r') as h5_file:\n",
    "    # Просмотр ключей верхнего уровня\n",
    "    print(\"Ключи верхнего уровня:\", list(h5_file.keys()))\n",
    "    \n",
    "    # Допустим, у вас есть группа или датасет с именем 'dataset_name'\n",
    "    signals = h5_file['windows']\n",
    "    labels = h5_file['labels']\n",
    "    \n",
    "    # Чтение данных как NumPy массив\n",
    "    signals = signals[()]\n",
    "    labels = labels[()]"
   ],
   "id": "89342df1aa11e4df",
   "outputs": [
    {
     "name": "stdout",
     "output_type": "stream",
     "text": [
      "Ключи верхнего уровня: ['labels', 'windows']\n"
     ]
    }
   ],
   "execution_count": 4
  },
  {
   "metadata": {
    "ExecuteTime": {
     "end_time": "2024-11-13T04:02:45.772714Z",
     "start_time": "2024-11-13T04:02:45.765716Z"
    }
   },
   "cell_type": "code",
   "source": "labels ",
   "id": "5db58033016d4424",
   "outputs": [
    {
     "data": {
      "text/plain": [
       "array([[ 16.11529354,  -6.22560814,  15.5952454 , ..., -16.75359903,\n",
       "        -19.09891189, -12.65976863],\n",
       "       [  6.57292592, -10.34990794,   1.43975491, ...,  10.07553004,\n",
       "         10.73495108,   0.7373931 ]])"
      ]
     },
     "execution_count": 5,
     "metadata": {},
     "output_type": "execute_result"
    }
   ],
   "execution_count": 5
  },
  {
   "metadata": {
    "ExecuteTime": {
     "end_time": "2024-10-30T16:51:44.927455Z",
     "start_time": "2024-10-30T16:51:44.917935Z"
    }
   },
   "cell_type": "code",
   "source": [
    "print(signals.shape)\n",
    "labels.shape"
   ],
   "id": "ef5d4c9728c8823a",
   "outputs": [
    {
     "name": "stdout",
     "output_type": "stream",
     "text": [
      "(4, 256, 4000)\n"
     ]
    },
    {
     "data": {
      "text/plain": [
       "(2, 4000)"
      ]
     },
     "execution_count": 6,
     "metadata": {},
     "output_type": "execute_result"
    }
   ],
   "execution_count": 6
  },
  {
   "metadata": {
    "ExecuteTime": {
     "end_time": "2024-10-30T16:52:22.737523Z",
     "start_time": "2024-10-30T16:52:22.729522Z"
    }
   },
   "cell_type": "code",
   "source": [
    "(224,224,3)\n",
    "(150000,1)"
   ],
   "id": "f52342a2e51a6f23",
   "outputs": [
    {
     "data": {
      "text/plain": [
       "(150000, 1)"
      ]
     },
     "execution_count": 7,
     "metadata": {},
     "output_type": "execute_result"
    }
   ],
   "execution_count": 7
  },
  {
   "metadata": {},
   "cell_type": "code",
   "outputs": [],
   "execution_count": null,
   "source": "",
   "id": "c144dbabe5ea81cf"
  }
 ],
 "metadata": {
  "kernelspec": {
   "display_name": "Python 3",
   "language": "python",
   "name": "python3"
  },
  "language_info": {
   "codemirror_mode": {
    "name": "ipython",
    "version": 2
   },
   "file_extension": ".py",
   "mimetype": "text/x-python",
   "name": "python",
   "nbconvert_exporter": "python",
   "pygments_lexer": "ipython2",
   "version": "2.7.6"
  }
 },
 "nbformat": 4,
 "nbformat_minor": 5
}
